{
 "cells": [
  {
   "attachments": {},
   "cell_type": "markdown",
   "metadata": {},
   "source": [
    "# Preparations"
   ]
  },
  {
   "cell_type": "code",
   "execution_count": null,
   "metadata": {},
   "outputs": [],
   "source": [
    "# Env\n",
    "from two_step_task import *\n",
    "env = two_step_task()\n",
    "has_obs = True"
   ]
  },
  {
   "cell_type": "code",
   "execution_count": null,
   "metadata": {},
   "outputs": [],
   "source": [
    "# Save Paths\n",
    "from datetime import datetime\n",
    "path = \"train_modular/\" + datetime.now().strftime(\"%m%d-%H:%M:%S\")"
   ]
  },
  {
   "cell_type": "code",
   "execution_count": 2,
   "metadata": {},
   "outputs": [],
   "source": [
    "# Hyperparameters\n",
    "gamma = 0.9  # Discount factor for past rewards\n",
    "learning_rate = 7e-4\n",
    "beta_v = 0.05\n",
    "beta_e = 0.05\n",
    "\n",
    "# train\n",
    "nb_trials = 100\n",
    "nb_episodes = 20000\n",
    "\n",
    "# lstm\n",
    "num_inputs = 7 #states + reward + action + timestep= 3 + 1 + 2 + 1\n",
    "num_actions = 2\n",
    "num_hidden = 48"
   ]
  },
  {
   "cell_type": "code",
   "execution_count": 3,
   "metadata": {},
   "outputs": [],
   "source": [
    "# Agent\n",
    "from Agent import *\n",
    "agent = Agent(learning_rate, gamma, beta_v, beta_e,  #loss func\n",
    "                 env, nb_trials, nb_episodes, has_obs,  #train\n",
    "                 num_inputs, num_actions, num_hidden,   #lstm\n",
    "                 path)"
   ]
  },
  {
   "attachments": {},
   "cell_type": "markdown",
   "metadata": {},
   "source": [
    "# Training"
   ]
  },
  {
   "cell_type": "code",
   "execution_count": 5,
   "metadata": {},
   "outputs": [],
   "source": [
    "agent.train()"
   ]
  },
  {
   "cell_type": "code",
   "execution_count": null,
   "metadata": {
    "pycharm": {
     "is_executing": true
    }
   },
   "outputs": [],
   "source": [
    "# agent.model.save(path+'/model.h5')"
   ]
  },
  {
   "cell_type": "markdown",
   "metadata": {},
   "source": [
    "# Testing"
   ]
  },
  {
   "cell_type": "code",
   "execution_count": null,
   "metadata": {},
   "outputs": [],
   "source": [
    "test_model = keras.models.load_model('train/0105-21:52:39/model.h5')\n",
    "#test_model = model\n",
    "test_episode = 300"
   ]
  },
  {
   "cell_type": "code",
   "execution_count": null,
   "metadata": {},
   "outputs": [],
   "source": [
    "agent.test(test_episode, test_model)"
   ]
  },
  {
   "attachments": {},
   "cell_type": "markdown",
   "metadata": {},
   "source": [
    "# Analysis"
   ]
  },
  {
   "cell_type": "code",
   "execution_count": null,
   "metadata": {},
   "outputs": [],
   "source": [
    "print(agent.env.stayProb())"
   ]
  },
  {
   "cell_type": "code",
   "execution_count": null,
   "metadata": {},
   "outputs": [],
   "source": [
    "import matplotlib.pyplot as plt\n",
    "\n",
    "fig, ax = plt.subplots()\n",
    "x = np.arange(2)\n",
    "ax.set_ylim([0.0, 1.0])\n",
    "ax.set_ylabel('Stay Probability')\n",
    "\n",
    "stay_probs = agent.env.stayProb()\n",
    "\n",
    "common = [stay_probs[0,0,0],stay_probs[1,0,0]]\n",
    "uncommon = [stay_probs[0,1,0],stay_probs[1,1,0]]\n",
    "\n",
    "ax.set_xticks([1.3,3.3])\n",
    "ax.set_xticklabels(['Last trial rewarded', 'Last trial not rewarded'])\n",
    "\n",
    "c = plt.bar([1,3],  common, color='b', width=0.5)\n",
    "uc = plt.bar([1.8,3.8], uncommon, color='r', width=0.5)\n",
    "plt.ylim(0,1)\n",
    "ax.legend( (c[0], uc[0]), ('common', 'uncommon') )\n"
   ]
  }
 ],
 "metadata": {
  "kernelspec": {
   "display_name": "Python 3 (ipykernel)",
   "language": "python",
   "name": "python3"
  },
  "language_info": {
   "codemirror_mode": {
    "name": "ipython",
    "version": 3
   },
   "file_extension": ".py",
   "mimetype": "text/x-python",
   "name": "python",
   "nbconvert_exporter": "python",
   "pygments_lexer": "ipython3",
   "version": "3.9.5"
  },
  "vscode": {
   "interpreter": {
    "hash": "7b19d276b38a92b4edf272a17a0f3c1c5821b8b960b3f92721d58d5de9b921e9"
   }
  }
 },
 "nbformat": 4,
 "nbformat_minor": 2
}
