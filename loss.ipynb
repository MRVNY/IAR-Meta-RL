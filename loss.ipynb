{
 "cells": [
  {
   "cell_type": "code",
   "execution_count": null,
   "metadata": {},
   "outputs": [],
   "source": [
    "R_t = tf.convert_to_tensor(R_t[::-1])\n",
    "delta = R_t - values\n",
    "critic_loss = beta_v * tf.reduce_sum(delta * values)\n",
    "actor_loss = tf.reduce_sum(tf.math.log(action_probs + 1e-7) * delta)"
   ]
  },
  {
   "cell_type": "code",
   "execution_count": null,
   "metadata": {},
   "outputs": [],
   "source": [
    "R_t = tf.convert_to_tensor(R_t[::-1])\n",
    "delta = R_t - values\n",
    "critic_loss = beta_v * tf.reduce_sum(delta * values)\n",
    "actor_loss = -tf.reduce_sum(tf.math.log(action_probs + 1e-7) * delta)"
   ]
  },
  {
   "cell_type": "code",
   "execution_count": null,
   "metadata": {},
   "outputs": [],
   "source": [
    "R_t = tf.convert_to_tensor(R_t[::-1])\n",
    "critic_loss = beta_v * 0.5 * tf.reduce_sum(tf.square(delta))\n",
    "actor_loss = 0.5 * tf.reduce_sum(tf.square(tf.math.log(action_probs + 1e-7) * delta))"
   ]
  },
  {
   "cell_type": "code",
   "execution_count": null,
   "metadata": {},
   "outputs": [],
   "source": [
    "# 0105-11:13\n",
    "R_t = tf.convert_to_tensor(R_t)\n",
    "critic_loss = beta_v * 0.5 * tf.reduce_sum(tf.square(delta))\n",
    "actor_loss = -tf.reduce_sum(tf.math.log(action_probs + 1e-7) * delta)\n",
    "# actor_loss and total_loss get negative\n",
    "# critic_loss goes up"
   ]
  },
  {
   "cell_type": "code",
   "execution_count": null,
   "metadata": {},
   "outputs": [],
   "source": [
    "# 0105-11:25 #the original loss that got to 70\n",
    "R_t = tf.convert_to_tensor(R_t[::-1])\n",
    "critic_loss = beta_v * 0.5 * tf.reduce_sum(tf.square(delta * values))\n",
    "actor_loss = -tf.reduce_sum(tf.math.log(action_probs + 1e-7) * delta)\n",
    "# actor_loss stays arround 0\n",
    "# critic_loss goes up and stays around 100-150"
   ]
  },
  {
   "cell_type": "code",
   "execution_count": null,
   "metadata": {},
   "outputs": [],
   "source": [
    "# what if we remove values from critic_loss\n",
    "# 0105-12:28\n",
    "R_t = tf.convert_to_tensor(R_t[::-1])\n",
    "critic_loss = beta_v * 0.5 * tf.reduce_sum(tf.square(delta))\n",
    "actor_loss = -tf.reduce_sum(tf.math.log(action_probs + 1e-7) * delta)\n",
    "# it's the same as R_t no inverse"
   ]
  },
  {
   "cell_type": "code",
   "execution_count": null,
   "metadata": {},
   "outputs": [],
   "source": [
    "# what if no huber loss and no negative actor_loss\n",
    "# 0105-12:32\n",
    "R_t = tf.convert_to_tensor(R_t[::-1])\n",
    "critic_loss = beta_v * tf.reduce_sum(delta * values)\n",
    "actor_loss = tf.reduce_sum(tf.math.log(action_probs + 1e-7) * delta)\n",
    "# actor_loss and critic_loss goes down indefinitely (actor tried to go up but stay neg)"
   ]
  },
  {
   "cell_type": "code",
   "execution_count": null,
   "metadata": {},
   "outputs": [],
   "source": [
    "# just reverse R_t from the original ?\n",
    "#12:39\n",
    "R_t = tf.convert_to_tensor(R_t)\n",
    "critic_loss = beta_v * 0.5 * tf.reduce_sum(tf.square(delta * values))\n",
    "actor_loss = -tf.reduce_sum(tf.math.log(action_probs + 1e-7) * delta)\n",
    "# critic_loss goes up"
   ]
  },
  {
   "cell_type": "code",
   "execution_count": null,
   "metadata": {},
   "outputs": [],
   "source": [
    "# no beta_v?\n",
    "#12:44\n",
    "R_t = tf.convert_to_tensor(R_t[::-1])\n",
    "critic_loss = 0.5 * tf.reduce_sum(tf.square(delta * values))\n",
    "actor_loss = -tf.reduce_sum(tf.math.log(action_probs + 1e-7) * delta)\n",
    "# critic_loss converges to 0 fast, actor_loss goes down to 0 eventually"
   ]
  },
  {
   "cell_type": "code",
   "execution_count": null,
   "metadata": {},
   "outputs": [],
   "source": [
    "# without * values?\n",
    "# 12:57\n",
    "critic_loss = 0.5 * tf.reduce_sum(tf.square(delta))\n",
    "actor_loss = -tf.reduce_sum(tf.math.log(action_probs + 1e-7) * delta)\n",
    "# actor_loss gets under 0, critic_loss stays over 100"
   ]
  },
  {
   "cell_type": "code",
   "execution_count": null,
   "metadata": {},
   "outputs": [],
   "source": [
    "# Like Mihn's pseudo code? (no - for actor_loss)\n",
    "# 14:07\n",
    "critic_loss = 0.5 * tf.reduce_sum(tf.square(delta))\n",
    "actor_loss = tf.reduce_sum(tf.math.log(action_probs + 1e-7) * delta)\n",
    "# \n",
    "\n",
    "# actually we need beta_v"
   ]
  },
  {
   "cell_type": "code",
   "execution_count": null,
   "metadata": {},
   "outputs": [],
   "source": [
    "# new R_t with positive actor\n",
    "# 15:01\n",
    "# actor negative, critic goes up, total negative"
   ]
  },
  {
   "cell_type": "code",
   "execution_count": null,
   "metadata": {},
   "outputs": [],
   "source": [
    "# new R_t with negative actor (doesn't work)\n",
    "\n",
    "# 15:02"
   ]
  },
  {
   "cell_type": "code",
   "execution_count": null,
   "metadata": {},
   "outputs": [],
   "source": [
    "# exactly like blog's code except no values[::-1] in delta\n",
    "# 15:17"
   ]
  },
  {
   "cell_type": "code",
   "execution_count": null,
   "metadata": {},
   "outputs": [],
   "source": [
    "# exactly like blog's code\n",
    "# 15:23"
   ]
  },
  {
   "cell_type": "code",
   "execution_count": null,
   "metadata": {},
   "outputs": [],
   "source": [
    "# OK, now it's excatly like blog's code\n",
    "# 15:52"
   ]
  }
 ],
 "metadata": {
  "kernelspec": {
   "display_name": "Python 3",
   "language": "python",
   "name": "python3"
  },
  "language_info": {
   "name": "python",
   "version": "3.9.13 (main, May 24 2022, 21:28:31) \n[Clang 13.1.6 (clang-1316.0.21.2)]"
  },
  "orig_nbformat": 4,
  "vscode": {
   "interpreter": {
    "hash": "aee8b7b246df8f9039afb4144a1f6fd8d2ca17a180786b69acc140d282b71a49"
   }
  }
 },
 "nbformat": 4,
 "nbformat_minor": 2
}
