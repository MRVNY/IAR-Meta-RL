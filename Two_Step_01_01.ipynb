{
 "cells": [
  {
   "attachments": {},
   "cell_type": "markdown",
   "metadata": {},
   "source": [
    "# Prepare"
   ]
  },
  {
   "attachments": {},
   "cell_type": "markdown",
   "metadata": {},
   "source": [
    "## Import"
   ]
  },
  {
   "cell_type": "code",
   "execution_count": 1,
   "metadata": {},
   "outputs": [
    {
     "name": "stderr",
     "output_type": "stream",
     "text": [
      "/Users/Marvin/opt/miniconda3/lib/python3.9/site-packages/scipy/__init__.py:146: UserWarning: A NumPy version >=1.16.5 and <1.23.0 is required for this version of SciPy (detected version 1.24.0\n",
      "  warnings.warn(f\"A NumPy version >={np_minversion} and <{np_maxversion}\"\n"
     ]
    }
   ],
   "source": [
    "import gym\n",
    "import numpy as np\n",
    "import tensorflow as tf\n",
    "from tensorflow import keras\n",
    "from tensorflow.keras import layers\n",
    "from datetime import datetime\n",
    "\n",
    "\n",
    "# Configuration parameters for the whole setup\n",
    "seed = 42\n",
    "gamma = 0.75  # Discount factor for past rewards\n",
    "max_steps_per_episode = 100 #10000\n",
    "# env = gym.make(\"CartPole-v0\")  # Create the environment\n",
    "# env.seed(seed)\n",
    "eps = np.finfo(np.float32).eps.item()  # Smallest number such that 1.0 + eps != 1.0"
   ]
  },
  {
   "attachments": {},
   "cell_type": "markdown",
   "metadata": {},
   "source": [
    "## Two Step Task"
   ]
  },
  {
   "cell_type": "code",
   "execution_count": 2,
   "metadata": {},
   "outputs": [
    {
     "name": "stderr",
     "output_type": "stream",
     "text": [
      "2023-01-01 20:21:53.254864: I tensorflow/core/platform/cpu_feature_guard.cc:193] This TensorFlow binary is optimized with oneAPI Deep Neural Network Library (oneDNN) to use the following CPU instructions in performance-critical operations:  SSE4.1 SSE4.2\n",
      "To enable them in other operations, rebuild TensorFlow with the appropriate compiler flags.\n"
     ]
    }
   ],
   "source": [
    "# encoding of the higher stages\n",
    "S_1 = 0\n",
    "S_2 = 1\n",
    "S_3 = 2\n",
    "nb_states = 3\n",
    "\n",
    "class two_step_task():\n",
    "    def __init__(self):\n",
    "        # start in S_1\n",
    "        self.state = S_1\n",
    "        \n",
    "        # defines what is the stage with the highest expected reward. Initially random\n",
    "        self.highest_reward_second_stage = np.random.choice([S_2,S_3])\n",
    "        \n",
    "        self.num_actions = 2\n",
    "        self.reset()\n",
    "        \n",
    "        # initialization of plotting variables\n",
    "        common_prob = 0.8\n",
    "        self.transitions = np.array([\n",
    "            [common_prob, 1-common_prob],\n",
    "            [1-common_prob, common_prob]\n",
    "        ])\n",
    "        self.transition_count = np.zeros((2,2,2))\n",
    "        \n",
    "        self.last_action = None\n",
    "        self.last_state = None\n",
    "    \n",
    "    def get_state(self):\n",
    "        one_hot_array = [0.,0.,0.]\n",
    "        one_hot_array[self.state] = 1.0\n",
    "        return tf.convert_to_tensor(one_hot_array)\n",
    "\n",
    "    def possible_switch(self):\n",
    "        if (np.random.uniform() < 0.025):\n",
    "            # switches which of S_2 or S_3 has expected reward of 0.9\n",
    "            self.highest_reward_second_stage = S_2 if (self.highest_reward_second_stage == S_3) else S_3\n",
    "            \n",
    "    def get_rprobs(self):\n",
    "        \"\"\"\n",
    "        probability of reward of states S_2 and S_3, in the form [[p, 1-p], [1-p, p]]\n",
    "        \"\"\"\n",
    "        if (self.highest_reward_second_stage == S_2):\n",
    "            r_prob = 0.9\n",
    "        else:\n",
    "            r_prob = 0.1\n",
    "        \n",
    "        rewards = np.array([\n",
    "            [r_prob, 1-r_prob],\n",
    "            [1-r_prob, r_prob]\n",
    "        ])\n",
    "        return rewards\n",
    "            \n",
    "    def isCommon(self,action,state):\n",
    "        if self.transitions[action][state] >= 1/2:\n",
    "            return True\n",
    "        return False\n",
    "        \n",
    "    def updateStateProb(self,action):\n",
    "        if self.last_is_rewarded: #R\n",
    "            if self.last_is_common: #C\n",
    "                if self.last_action == action: #Rep\n",
    "                    self.transition_count[0,0,0] += 1\n",
    "                else: #URep\n",
    "                    self.transition_count[0,0,1] += 1\n",
    "            else: #UC\n",
    "                if self.last_action == action: #Rep\n",
    "                    self.transition_count[0,1,0] += 1\n",
    "                else: #URep\n",
    "                    self.transition_count[0,1,1] += 1\n",
    "        else: #UR\n",
    "            if self.last_is_common:\n",
    "                if self.last_action == action:\n",
    "                    self.transition_count[1,0,0] += 1\n",
    "                else:\n",
    "                    self.transition_count[1,0,1] += 1\n",
    "            else:\n",
    "                if self.last_action == action:\n",
    "                    self.transition_count[1,1,0] += 1\n",
    "                else:\n",
    "                    self.transition_count[1,1,1] += 1\n",
    "                    \n",
    "        \n",
    "    def stayProb(self):\n",
    "        print(self.transition_count)\n",
    "        row_sums = self.transition_count.sum(axis=-1)\n",
    "        stay_prob = self.transition_count / row_sums[:,:,np.newaxis] \n",
    "       \n",
    "        return stay_prob\n",
    "\n",
    "    def reset(self):\n",
    "        self.timestep = 0\n",
    "        \n",
    "        # for the two-step task plots\n",
    "        self.last_is_common = None\n",
    "        self.last_is_rewarded = None\n",
    "        self.last_action = None\n",
    "        self.last_state = None\n",
    "        \n",
    "        # come back to S_1 at the end of an episode\n",
    "        self.state = S_1\n",
    "        \n",
    "        return self.get_state()\n",
    "        \n",
    "    def step(self,action):\n",
    "        self.timestep += 1\n",
    "        self.last_state = self.state\n",
    "        \n",
    "        # get next stage\n",
    "        if (self.state == S_1):\n",
    "            # get reward\n",
    "            reward = 0\n",
    "            # update stage\n",
    "            self.state = S_2 if (np.random.uniform() < self.transitions[action][0]) else S_3\n",
    "            # keep track of stay probability after first action\n",
    "            if (self.last_action != None):    \n",
    "                self.updateStateProb(action)\n",
    "            self.last_action = action\n",
    "            # book-keeping for plotting\n",
    "            self.last_is_common = self.isCommon(action,self.state-1)\n",
    "            \n",
    "        else:# case S_2 or S_3\n",
    "            # get probability of reward in stage\n",
    "            r_prob = 0.9 if (self.highest_reward_second_stage == self.state) else 0.1\n",
    "            # get reward\n",
    "            reward = 1 if np.random.uniform() < r_prob else 0\n",
    "            # update stage\n",
    "            self.state = S_1\n",
    "            # book-keeping for plotting\n",
    "            self.last_is_rewarded = reward\n",
    "\n",
    "        # new state after the decision\n",
    "        new_state = self.get_state()\n",
    "        if self.timestep >= 200: \n",
    "            done = True\n",
    "        else: \n",
    "            done = False\n",
    "        return new_state,reward,done,self.timestep\n",
    "    \n",
    "    def trial(self,action):\n",
    "        # do one action in S_1, and keep track of the perceptually distinguishable state you arive in\n",
    "        observation,_,_,_ = self.step(action)\n",
    "        # do the same action in the resulting state (S_2 or S_3). The action doesn't matter, the reward does\n",
    "        _,reward,done,_ = self.step(action)\n",
    "        return observation,reward,done,self.timestep\n",
    "    \n",
    "env = two_step_task()"
   ]
  },
  {
   "attachments": {},
   "cell_type": "markdown",
   "metadata": {},
   "source": [
    "## LOSS"
   ]
  },
  {
   "cell_type": "code",
   "execution_count": 3,
   "metadata": {},
   "outputs": [],
   "source": [
    "\n",
    "def get_n_step_return(\n",
    "    rewards: tf.Tensor,\n",
    "    values: tf.Tensor,\n",
    "    n: int,\n",
    "    gamma: float):\n",
    "    '''Fonction qui retourne R_t, le gamma utilisé est celui préconisé par \n",
    "    Wang et al. (2018), Methods/Simulation1\n",
    "    Version AVEC bootstrap (utilisation de la valeur prédite au dernier step\n",
    "    comme point de départ)\n",
    "    '''\n",
    "    returns = tf.TensorArray(dtype=tf.float32, size=n)\n",
    "    # Start from the end of `rewards` and accumulate reward sums\n",
    "    #into the `returns` array\n",
    "    rewards = rewards[::-1]\n",
    "    values =  values[::-1]\n",
    "    \n",
    "    # values is inverted\n",
    "    discounted_sum = values[0]\n",
    "    for i in tf.range(n):\n",
    "        discounted_sum = rewards[i] + gamma * discounted_sum\n",
    "        returns = returns.write(i, int(discounted_sum))\n",
    "    \n",
    "    return returns.stack()\n",
    "\n"
   ]
  },
  {
   "cell_type": "code",
   "execution_count": 4,
   "metadata": {},
   "outputs": [],
   "source": [
    "def compute_loss(\n",
    "        action_probs: tf.Tensor,\n",
    "        values: tf.Tensor,\n",
    "        rewards: tf.Tensor,\n",
    "        entropy : tf.Tensor,  \n",
    "        gamma: float = gamma,\n",
    "        beta_v: float = 0.05,\n",
    "        beta_e : float = 0.05 ) -> tf.Tensor:\n",
    "    \"\"\"Computes the combined actor-critic loss.\"\"\"\n",
    "    \n",
    "    R_t = get_n_step_return(\n",
    "            rewards=rewards,\n",
    "            values=values, \n",
    "            n=rewards.shape[0], \n",
    "            gamma=gamma)\n",
    "    delta = tf.reshape(R_t,(100,1)) - values\n",
    "    delta_nogradient = tf.stop_gradient(delta)\n",
    "    # print(R_t)\n",
    "    # print(values)\n",
    "          \n",
    "    critic_loss = 0.5 * tf.reduce_sum(tf.square(delta))\n",
    "    action_log_probs = tf.math.log(action_probs + 1e-7)\n",
    "    actor_loss = tf.reduce_sum(action_log_probs * delta_nogradient)\n",
    "    total_loss = actor_loss + beta_v * critic_loss + beta_e * entropy\n",
    "    \n",
    "    return total_loss"
   ]
  },
  {
   "attachments": {},
   "cell_type": "markdown",
   "metadata": {},
   "source": [
    "## LSTM"
   ]
  },
  {
   "cell_type": "code",
   "execution_count": 5,
   "metadata": {},
   "outputs": [],
   "source": [
    "num_inputs = 6 #states + reward + action = 3 + 1 + 2\n",
    "num_actions = 2\n",
    "num_hidden = 48\n",
    "\n",
    "inputs = layers.Input(shape=(num_inputs))\n",
    "state_h = layers.Input(shape=(num_hidden))\n",
    "state_c = layers.Input(shape=(num_hidden))\n",
    "\n",
    "common, states = layers.LSTMCell(num_hidden)(inputs, states=[state_h, state_c], training=True)\n",
    "action = layers.Dense(num_actions, activation=\"softmax\")(common)\n",
    "critic = layers.Dense(1)(common)\n",
    "\n",
    "model = keras.Model(inputs=[inputs,state_h,state_c], outputs=[action, critic, states])"
   ]
  },
  {
   "attachments": {},
   "cell_type": "markdown",
   "metadata": {},
   "source": [
    "# Train"
   ]
  },
  {
   "cell_type": "code",
   "execution_count": null,
   "metadata": {
    "collapsed": false,
    "pycharm": {
     "is_executing": true
    }
   },
   "outputs": [],
   "source": [
    "optimizer = keras.optimizers.Adam(learning_rate=0.01)\n",
    "action_probs_history = tf.zeros((1,2))\n",
    "critic_value_history = tf.zeros((1,1))\n",
    "rewards_history = tf.zeros((1,1))\n",
    "running_reward = 0\n",
    "episode_count = 0\n",
    "  \n",
    "\n",
    "for episode in range(10000):  # Run until solved\n",
    "    state = env.reset()\n",
    "    episode_reward = 0\n",
    "    reward = 0.0\n",
    "    action_probs = tf.zeros((2))\n",
    "    cell_state = [tf.zeros((1,num_hidden)),tf.zeros((1,num_hidden))]\n",
    "    \n",
    "    episode_entropy = tf.zeros(())\n",
    "    \n",
    "    with tf.GradientTape() as tape:\n",
    "        for timestep in range(1, max_steps_per_episode):\n",
    "            \n",
    "            input = tf.concat([state, np.append(action_probs.numpy(),reward)],0)\n",
    "            input = tf.reshape(input, (1, num_inputs))\n",
    "\n",
    "            # Predict action probabilities and estimated future rewards from environment state\n",
    "            action_probs, critic_value, cell_state = model([input,cell_state[0],cell_state[1]])\n",
    "            \n",
    "            if np.isnan(action_probs.numpy()).any():\n",
    "                print(action_probs)\n",
    "                break                \n",
    "            \n",
    "            critic_value_history = tf.concat([critic_value_history, critic_value],0)\n",
    "\n",
    "            \n",
    "            # Sample action from action probability distribution\n",
    "            action = np.random.choice(num_actions, p=np.squeeze(action_probs))\n",
    "            action_probs_history = tf.concat([action_probs_history,action_probs],0)\n",
    "\n",
    "            # Apply the sampled action in our environment\n",
    "            state, reward, done, _ = env.trial(action)\n",
    "            #state, reward, done, _ = env.step(np.random.randint(0,2))\n",
    "            rewards_history = tf.concat([rewards_history, tf.reshape(tf.convert_to_tensor([reward],dtype=tf.float32),(1,1))],0)\n",
    "            episode_reward += reward\n",
    "            \n",
    "            if done:\n",
    "                break\n",
    "\n",
    "        # Update running reward to check condition for solving\n",
    "        #running_reward = episode_reward + running_reward\n",
    "\n",
    "        # Calculating loss values to update our network\n",
    "        \n",
    "        #entropy\n",
    "        entropy = -tf.math.reduce_sum(tf.math.multiply(action_probs,tf.math.log(action_probs + 1e-7)))\n",
    "        episode_entropy += entropy\n",
    "\n",
    "        loss_value = compute_loss(\n",
    "            action_probs_history, \n",
    "            critic_value_history, \n",
    "            rewards_history, \n",
    "            tf.convert_to_tensor(episode_entropy))\n",
    "        \n",
    "        # Backpropagation\n",
    "        grads = tape.gradient(loss_value, model.trainable_variables)\n",
    "        optimizer.apply_gradients(zip(grads, model.trainable_variables))\n",
    "\n",
    "        # Clear the loss and reward history\n",
    "        action_probs_history = tf.zeros((1,2))\n",
    "        critic_value_history = tf.zeros((1,1))\n",
    "        rewards_history = tf.zeros((1,1))\n",
    "\n",
    "    # Log details\n",
    "    episode_count += 1\n",
    "    if episode_count % 10 == 0:\n",
    "        template = \"reward: {:.2f} at episode {}\"\n",
    "        print(template.format(episode_reward, episode_count))\n",
    "        #print(env.stayProb())\n",
    "\n",
    "    if episode_reward > 90:  # Condition to consider the task solved\n",
    "        print(\"Solved at episode {}!\".format(episode_count))\n",
    "        break\n",
    "\n",
    "    \n",
    "    # if episode_count > 100:\n",
    "    #     break"
   ]
  },
  {
   "cell_type": "code",
   "execution_count": 22,
   "metadata": {},
   "outputs": [
    {
     "name": "stdout",
     "output_type": "stream",
     "text": [
      "WARNING:tensorflow:Compiled the loaded model, but the compiled metrics have yet to be built. `model.compile_metrics` will be empty until you train or evaluate the model.\n",
      "INFO:tensorflow:Assets written to: 0101-204557_2000x100.cptk/assets\n"
     ]
    }
   ],
   "source": [
    "path = datetime.now().strftime(\"%m%d-%H%M%S\") + \"_2000x100.h5\"\n",
    "model.save(path)"
   ]
  },
  {
   "cell_type": "code",
   "execution_count": 23,
   "metadata": {},
   "outputs": [],
   "source": [
    "# checkpoint = tf.train.Checkpoint(model)\n",
    "# save_path = checkpoint.save('checkpoints')"
   ]
  },
  {
   "cell_type": "code",
   "execution_count": null,
   "metadata": {},
   "outputs": [],
   "source": [
    "%load_ext tensorboard"
   ]
  }
 ],
 "metadata": {
  "kernelspec": {
   "display_name": "base",
   "language": "python",
   "name": "python3"
  },
  "language_info": {
   "codemirror_mode": {
    "name": "ipython",
    "version": 3
   },
   "file_extension": ".py",
   "mimetype": "text/x-python",
   "name": "python",
   "nbconvert_exporter": "python",
   "pygments_lexer": "ipython3",
   "version": "3.9.5"
  },
  "orig_nbformat": 4,
  "vscode": {
   "interpreter": {
    "hash": "7b19d276b38a92b4edf272a17a0f3c1c5821b8b960b3f92721d58d5de9b921e9"
   }
  }
 },
 "nbformat": 4,
 "nbformat_minor": 2
}
