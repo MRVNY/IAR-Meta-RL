{
 "cells": [
  {
   "attachments": {},
   "cell_type": "markdown",
   "metadata": {},
   "source": [
    "# Preparations"
   ]
  },
  {
   "cell_type": "code",
   "execution_count": 1,
   "metadata": {},
   "outputs": [
    {
     "name": "stderr",
     "output_type": "stream",
     "text": [
      "/Users/Marvin/opt/miniconda3/lib/python3.9/site-packages/scipy/__init__.py:146: UserWarning: A NumPy version >=1.16.5 and <1.23.0 is required for this version of SciPy (detected version 1.24.0\n",
      "  warnings.warn(f\"A NumPy version >={np_minversion} and <{np_maxversion}\"\n"
     ]
    }
   ],
   "source": [
    "# Env\n",
    "from Env4_Two_Step_Task import *\n",
    "from Agent import *"
   ]
  },
  {
   "cell_type": "code",
   "execution_count": 2,
   "metadata": {},
   "outputs": [],
   "source": [
    "# Save Paths\n",
    "from datetime import datetime\n",
    "path = \"../Log/train_env4/\" + datetime.now().strftime(\"%m%d-%H:%M:%S\") + \"_gamma0.75_lr0.1\""
   ]
  },
  {
   "cell_type": "code",
   "execution_count": 3,
   "metadata": {},
   "outputs": [],
   "source": [
    "# Hyperparameters\n",
    "gamma = 0.75\n",
    "learning_rate = 7e-4\n",
    "beta_v = 0.05\n",
    "beta_e = 0.05\n",
    "\n",
    "# train\n",
    "nb_trials = 100\n",
    "nb_episodes = 20000"
   ]
  },
  {
   "cell_type": "code",
   "execution_count": 4,
   "metadata": {},
   "outputs": [
    {
     "name": "stderr",
     "output_type": "stream",
     "text": [
      "2023-01-10 18:32:57.324453: I tensorflow/core/platform/cpu_feature_guard.cc:193] This TensorFlow binary is optimized with oneAPI Deep Neural Network Library (oneDNN) to use the following CPU instructions in performance-critical operations:  SSE4.1 SSE4.2\n",
      "To enable them in other operations, rebuild TensorFlow with the appropriate compiler flags.\n"
     ]
    }
   ],
   "source": [
    "env = Two_Step_Task()\n",
    "\n",
    "# Agent\n",
    "agent = Agent(learning_rate, gamma, beta_v, beta_e,  #loss func\n",
    "                 env, nb_trials, nb_episodes,  #train\n",
    "                 path)"
   ]
  },
  {
   "attachments": {},
   "cell_type": "markdown",
   "metadata": {},
   "source": [
    "# Training"
   ]
  },
  {
   "cell_type": "code",
   "execution_count": 5,
   "metadata": {},
   "outputs": [
    {
     "name": "stdout",
     "output_type": "stream",
     "text": [
      "WARNING:tensorflow:Compiled the loaded model, but the compiled metrics have yet to be built. `model.compile_metrics` will be empty until you train or evaluate the model.\n"
     ]
    }
   ],
   "source": [
    "agent.train()"
   ]
  },
  {
   "cell_type": "code",
   "execution_count": 6,
   "metadata": {
    "pycharm": {
     "is_executing": true
    }
   },
   "outputs": [],
   "source": [
    "# agent.model.save(path+'/model.h5')"
   ]
  },
  {
   "cell_type": "markdown",
   "metadata": {},
   "source": [
    "# Testing"
   ]
  },
  {
   "cell_type": "code",
   "execution_count": 8,
   "metadata": {},
   "outputs": [],
   "source": [
    "#test_model = keras.models.load_model('Log/train_Two_Step_Task/0105-21:52:39/model.h5')\n",
    "test_model = agent.model\n",
    "test_episode = 300"
   ]
  },
  {
   "cell_type": "code",
   "execution_count": 11,
   "metadata": {},
   "outputs": [],
   "source": [
    "agent.test(test_model, test_episode, agent.nb_trials)"
   ]
  },
  {
   "attachments": {},
   "cell_type": "markdown",
   "metadata": {},
   "source": [
    "# Analysis"
   ]
  },
  {
   "cell_type": "code",
   "execution_count": 12,
   "metadata": {},
   "outputs": [
    {
     "name": "stdout",
     "output_type": "stream",
     "text": [
      "[[[1047296.   81168.]\n",
      "  [  90531.   28936.]]\n",
      "\n",
      " [[ 355394.  123873.]\n",
      "  [ 258756.   23746.]]]\n"
     ]
    },
    {
     "data": {
      "text/plain": [
       "<matplotlib.legend.Legend at 0x7fcebbcc9be0>"
      ]
     },
     "execution_count": 12,
     "metadata": {},
     "output_type": "execute_result"
    },
    {
     "data": {
      "image/png": "[encoded data removed]",
      "text/plain": [
       "<Figure size 640x480 with 1 Axes>"
      ]
     },
     "metadata": {},
     "output_type": "display_data"
    }
   ],
   "source": [
    "import matplotlib.pyplot as plt\n",
    "\n",
    "fig, ax = plt.subplots()\n",
    "x = np.arange(2)\n",
    "ax.set_ylim([0.0, 1.0])\n",
    "ax.set_ylabel('Stay Probability')\n",
    "\n",
    "stay_probs = agent.env.stayProb()\n",
    "\n",
    "common = [stay_probs[0,0,0],stay_probs[1,0,0]]\n",
    "uncommon = [stay_probs[0,1,0],stay_probs[1,1,0]]\n",
    "\n",
    "ax.set_xticks([1.3,3.3])\n",
    "ax.set_xticklabels(['Last trial rewarded', 'Last trial not rewarded'])\n",
    "\n",
    "c = plt.bar([1,3],  common, color='b', width=0.5)\n",
    "uc = plt.bar([1.8,3.8], uncommon, color='r', width=0.5)\n",
    "plt.ylim(0.5,1)\n",
    "ax.legend( (c[0], uc[0]), ('common', 'uncommon') )\n"
   ]
  },
  {
   "cell_type": "code",
   "execution_count": null,
   "metadata": {},
   "outputs": [],
   "source": []
  }
 ],
 "metadata": {
  "kernelspec": {
   "display_name": "Python 3 (ipykernel)",
   "language": "python",
   "name": "python3"
  },
  "language_info": {
   "codemirror_mode": {
    "name": "ipython",
    "version": 3
   },
   "file_extension": ".py",
   "mimetype": "text/x-python",
   "name": "python",
   "nbconvert_exporter": "python",
   "pygments_lexer": "ipython3",
   "version": "3.9.5"
  },
  "vscode": {
   "interpreter": {
    "hash": "7b19d276b38a92b4edf272a17a0f3c1c5821b8b960b3f92721d58d5de9b921e9"
   }
  }
 },
 "nbformat": 4,
 "nbformat_minor": 2
}
