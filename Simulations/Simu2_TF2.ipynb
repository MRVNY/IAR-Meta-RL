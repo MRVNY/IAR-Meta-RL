{
 "cells": [
  {
   "attachments": {},
   "cell_type": "markdown",
   "metadata": {},
   "source": [
    "# Preparations"
   ]
  },
  {
   "cell_type": "code",
   "execution_count": 1,
   "metadata": {},
   "outputs": [
    {
     "name": "stderr",
     "output_type": "stream",
     "text": [
      "/Users/Marvin/opt/miniconda3/lib/python3.9/site-packages/scipy/__init__.py:146: UserWarning: A NumPy version >=1.16.5 and <1.23.0 is required for this version of SciPy (detected version 1.24.0\n",
      "  warnings.warn(f\"A NumPy version >={np_minversion} and <{np_maxversion}\"\n"
     ]
    }
   ],
   "source": [
    "# Env\n",
    "from Env2_Stable_Volatile_Bandit import *\n",
    "from Agent import *"
   ]
  },
  {
   "cell_type": "code",
   "execution_count": 2,
   "metadata": {},
   "outputs": [],
   "source": [
    "# Save Paths\n",
    "from datetime import datetime\n",
    "path = \"../Log/train_env2/\" + datetime.now().strftime(\"%m%d-%H:%M:%S\")"
   ]
  },
  {
   "cell_type": "code",
   "execution_count": 3,
   "metadata": {},
   "outputs": [],
   "source": [
    "# Hyperparameters\n",
    "# an entropy cost linearly decreasing from 1 to 0\n",
    "gamma = 0.1  # Discount factor for past rewards\n",
    "learning_rate = 1e-5\n",
    "\n",
    "# Hyperparameters\n",
    "beta_v = 0.05\n",
    "beta_e = 0.05\n",
    "\n",
    "# train\n",
    "nb_trials = 200\n",
    "nb_episodes = 40000"
   ]
  },
  {
   "cell_type": "code",
   "execution_count": 4,
   "metadata": {},
   "outputs": [
    {
     "name": "stderr",
     "output_type": "stream",
     "text": [
      "2023-01-10 15:00:40.465663: I tensorflow/core/platform/cpu_feature_guard.cc:193] This TensorFlow binary is optimized with oneAPI Deep Neural Network Library (oneDNN) to use the following CPU instructions in performance-critical operations:  SSE4.1 SSE4.2\n",
      "To enable them in other operations, rebuild TensorFlow with the appropriate compiler flags.\n"
     ]
    }
   ],
   "source": [
    "env = Stable_Volatile_Bandit()\n",
    "\n",
    "agent = Agent(learning_rate, gamma, beta_v, beta_e,  #loss func\n",
    "                 env, nb_trials, nb_episodes,  #train\n",
    "                 path)"
   ]
  },
  {
   "attachments": {},
   "cell_type": "markdown",
   "metadata": {},
   "source": [
    "# Training"
   ]
  },
  {
   "cell_type": "code",
   "execution_count": 5,
   "metadata": {},
   "outputs": [
    {
     "name": "stdout",
     "output_type": "stream",
     "text": [
      "WARNING:tensorflow:Compiled the loaded model, but the compiled metrics have yet to be built. `model.compile_metrics` will be empty until you train or evaluate the model.\n"
     ]
    }
   ],
   "source": [
    "agent.train()"
   ]
  },
  {
   "cell_type": "code",
   "execution_count": null,
   "metadata": {
    "pycharm": {
     "is_executing": true
    }
   },
   "outputs": [],
   "source": [
    "# agent.model.save(path+'/model.h5')"
   ]
  },
  {
   "cell_type": "markdown",
   "metadata": {},
   "source": [
    "# Testing"
   ]
  },
  {
   "cell_type": "code",
   "execution_count": 5,
   "metadata": {},
   "outputs": [
    {
     "name": "stdout",
     "output_type": "stream",
     "text": [
      "WARNING:tensorflow:No training configuration found in the save file, so the model was *not* compiled. Compile it manually.\n"
     ]
    }
   ],
   "source": [
    "test_model = keras.models.load_model('../Log/train_env2/0109-12:37:29/model.h5')\n",
    "#test_model = agent.model\n",
    "test_episode = 400"
   ]
  },
  {
   "cell_type": "code",
   "execution_count": 6,
   "metadata": {},
   "outputs": [],
   "source": [
    "test_summary_writer = tf.summary.create_file_writer(agent.test_dir)\n",
    "agent.env.training = False\n",
    "agent.env.state == VOLATILE_FIRST\n",
    "\n",
    "for episode in range(test_episode):\n",
    "    if(agent.env.nb_obs>0):\n",
    "        obs = agent.env.test_reset()\n",
    "    else: \n",
    "        agent.env.test_reset()\n",
    "        obs = []\n",
    "    \n",
    "    action_probs_history = []\n",
    "    rewards_history = []\n",
    "    critic_value_history = []\n",
    "    reward = 0.0\n",
    "    action_onehot = np.zeros((agent.nb_actions))\n",
    "    cell_state = [tf.zeros((1,agent.nb_hidden)),tf.zeros((1,agent.nb_hidden))]\n",
    "    entropy = 0.0\n",
    "    \n",
    "    for timestep in range(nb_trials * agent.action_per_trial):\n",
    "        \n",
    "        input = np.concatenate((obs, action_onehot, [reward], [timestep]),dtype = np.float32)\n",
    "        input = tf.expand_dims(input,0)\n",
    "        \n",
    "        # Predict action probabilities and estimated future rewards from environment state\n",
    "        action_probs, critic_value, cell_state = test_model([input,cell_state[0],cell_state[1]])\n",
    "        critic_value_history.append(tf.squeeze(critic_value))\n",
    "        \n",
    "        # Sample action from action probability distribution\n",
    "        action_probs = tf.squeeze(action_probs)\n",
    "        action = np.random.choice(agent.nb_actions, p=action_probs.numpy())\n",
    "        action_probs_history.append(action_probs[action])\n",
    "        action_onehot = np.zeros((agent.nb_actions))\n",
    "        action_onehot[action] = 1.0\n",
    "\n",
    "        # Apply the sampled action in our environment\n",
    "        if(agent.env.nb_obs>0):   \n",
    "            obs, reward, done, _ = agent.env.trial(action)\n",
    "        else: reward, done, _ = agent.env.trial(action)\n",
    "        rewards_history.append(reward)\n",
    "        \n",
    "        # entropy\n",
    "        entropy += sp.stats.entropy(action_probs)\n",
    "        \n",
    "        if done: break\n",
    "\n",
    "    with test_summary_writer.as_default():\n",
    "        tf.summary.scalar('loss/entropy', entropy, step=episode)\n",
    "        tf.summary.scalar('game/reward', np.sum(rewards_history), step=episode)\n",
    "        tf.summary.histogram('game/action_probs', action_probs_history, step=episode)\n",
    "    \n"
   ]
  },
  {
   "attachments": {},
   "cell_type": "markdown",
   "metadata": {},
   "source": [
    "# Analysis"
   ]
  },
  {
   "cell_type": "code",
   "execution_count": 7,
   "metadata": {},
   "outputs": [
    {
     "data": {
      "image/png": "[encoded data removed]",
      "text/plain": [
       "<Figure size 640x480 with 1 Axes>"
      ]
     },
     "metadata": {},
     "output_type": "display_data"
    }
   ],
   "source": [
    "import matplotlib.pyplot as plt\n",
    "\n",
    "plt.plot(agent.env.get_proba_history())\n",
    "plt.plot(critic_value_history)\n",
    "plt.show()"
   ]
  },
  {
   "cell_type": "code",
   "execution_count": null,
   "metadata": {},
   "outputs": [],
   "source": []
  }
 ],
 "metadata": {
  "kernelspec": {
   "display_name": "Python 3 (ipykernel)",
   "language": "python",
   "name": "python3"
  },
  "language_info": {
   "codemirror_mode": {
    "name": "ipython",
    "version": 3
   },
   "file_extension": ".py",
   "mimetype": "text/x-python",
   "name": "python",
   "nbconvert_exporter": "python",
   "pygments_lexer": "ipython3",
   "version": "3.9.5 (default, May 18 2021, 12:31:01) \n[Clang 10.0.0 ]"
  },
  "vscode": {
   "interpreter": {
    "hash": "7b19d276b38a92b4edf272a17a0f3c1c5821b8b960b3f92721d58d5de9b921e9"
   }
  }
 },
 "nbformat": 4,
 "nbformat_minor": 2
}
