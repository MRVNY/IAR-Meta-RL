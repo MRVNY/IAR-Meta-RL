{
 "cells": [
  {
   "attachments": {},
   "cell_type": "markdown",
   "metadata": {},
   "source": [
    "# Preparations"
   ]
  },
  {
   "cell_type": "code",
   "execution_count": 1,
   "metadata": {},
   "outputs": [
    {
     "name": "stderr",
     "output_type": "stream",
     "text": [
      "/Users/Marvin/opt/miniconda3/lib/python3.9/site-packages/scipy/__init__.py:146: UserWarning: A NumPy version >=1.16.5 and <1.23.0 is required for this version of SciPy (detected version 1.24.0\n",
      "  warnings.warn(f\"A NumPy version >={np_minversion} and <{np_maxversion}\"\n"
     ]
    }
   ],
   "source": [
    "# Env\n",
    "from Env1_Two_Armed_Bandit_last_seen_0 import *\n",
    "from Agent import *\n",
    "env = Two_Armed_Bandit()"
   ]
  },
  {
   "cell_type": "code",
   "execution_count": 2,
   "metadata": {},
   "outputs": [],
   "source": [
    "# Save Paths\n",
    "from datetime import datetime\n",
    "path = \"../Log/train_env1/\" + datetime.now().strftime(\"%m%d-%H:%M:%S\") + \"last_seen_0\""
   ]
  },
  {
   "cell_type": "code",
   "execution_count": 3,
   "metadata": {},
   "outputs": [],
   "source": [
    "# Hyperparameters\n",
    "gamma = 0.75  # Discount factor for past rewards\n",
    "learning_rate = 7e-4\n",
    "\n",
    "# Hyperparameters\n",
    "beta_v = 0.05\n",
    "beta_e = 0.05\n",
    "\n",
    "# train\n",
    "nb_trials = 100\n",
    "# nb_episodes = 15000\n",
    "nb_episodes = 20000"
   ]
  },
  {
   "cell_type": "code",
   "execution_count": 4,
   "metadata": {},
   "outputs": [
    {
     "name": "stderr",
     "output_type": "stream",
     "text": [
      "2023-01-11 14:13:32.598491: I tensorflow/core/platform/cpu_feature_guard.cc:193] This TensorFlow binary is optimized with oneAPI Deep Neural Network Library (oneDNN) to use the following CPU instructions in performance-critical operations:  SSE4.1 SSE4.2\n",
      "To enable them in other operations, rebuild TensorFlow with the appropriate compiler flags.\n"
     ]
    }
   ],
   "source": [
    "# Agent\n",
    "agent = Agent(learning_rate, gamma, beta_v, beta_e,  #loss func\n",
    "                 env, nb_trials, nb_episodes,  #train\n",
    "                 path)"
   ]
  },
  {
   "attachments": {},
   "cell_type": "markdown",
   "metadata": {},
   "source": [
    "# Training"
   ]
  },
  {
   "cell_type": "code",
   "execution_count": 5,
   "metadata": {},
   "outputs": [],
   "source": [
    "agent.train()"
   ]
  },
  {
   "cell_type": "code",
   "execution_count": null,
   "metadata": {
    "pycharm": {
     "is_executing": true
    }
   },
   "outputs": [],
   "source": [
    "agent.model.save(path+'/model.h5')"
   ]
  },
  {
   "cell_type": "markdown",
   "metadata": {},
   "source": [
    "# Testing"
   ]
  },
  {
   "cell_type": "code",
   "execution_count": null,
   "metadata": {},
   "outputs": [
    {
     "name": "stdout",
     "output_type": "stream",
     "text": [
      "WARNING:tensorflow:No training configuration found in the save file, so the model was *not* compiled. Compile it manually.\n"
     ]
    }
   ],
   "source": [
    "#test_model = keras.models.load_model('../Log/train_env1/0111-11:27:52/model.h5')\n",
    "test_model = agent.model\n",
    "test_episode = 500"
   ]
  },
  {
   "cell_type": "code",
   "execution_count": null,
   "metadata": {},
   "outputs": [],
   "source": [
    "agent.env.held_out = False\n",
    "agent.test(test_model, test_episode, 100)\n",
    "cl,cr,rl,rr = agent.env.get_abcd()\n",
    "y = np.log2(np.divide(cr, [x+1e-10 for x in cl])+1e-10)\n",
    "x = np.log2(np.divide(rr, [x+1e-10 for x in rl])+1e-10)"
   ]
  },
  {
   "cell_type": "code",
   "execution_count": null,
   "metadata": {},
   "outputs": [],
   "source": [
    "agent.env.held_out = True\n",
    "agent.test(test_model, test_episode, 100)\n",
    "cl2,cr2,rl2,rr2 = agent.env.get_abcd()\n",
    "x2 = np.log2(np.divide(cr2, [x+1e-10 for x in cl2])+1e-10)\n",
    "y2 = np.log2(np.divide(rr2, [x+1e-10 for x in rl2])+1e-10)"
   ]
  },
  {
   "attachments": {},
   "cell_type": "markdown",
   "metadata": {},
   "source": [
    "# Analysis"
   ]
  },
  {
   "cell_type": "code",
   "execution_count": null,
   "metadata": {},
   "outputs": [],
   "source": [
    "import matplotlib.pyplot as plt\n",
    "\n",
    "def plotfigure2(x,y,x2,y2):\n",
    "    # Make sure that x and y have the same length\n",
    "    assert len(x) == len(y)\n",
    "    \n",
    "    a, b = np.polyfit(x, y, 1)\n",
    "    a2, b2 = np.polyfit(x2, y2, 1)\n",
    "    \n",
    "    # Create a figure and an axis\n",
    "    fig, ax = plt.subplots()\n",
    "    ax.set_xlim(-10,10)\n",
    "    ax.set_ylim(-10,10)\n",
    "    # Plot x and y\n",
    "    ax.scatter(x, y, s=2)\n",
    "    # ax.plot(x, a*x+b)\n",
    "    \n",
    "    ax.scatter(x2, y2, s=2)\n",
    "    # ax.plot(x2, a2*x2+b2)\n",
    "    # Add axis labels and a title\n",
    "    ax.set_xlabel('log2(RR/RL)')\n",
    "    ax.set_ylabel('log2(CR/CL)')\n",
    "    ax.set_title('Plot of x and y')\n",
    "    # Show the plot\n",
    "    plt.show()"
   ]
  },
  {
   "cell_type": "code",
   "execution_count": null,
   "metadata": {},
   "outputs": [],
   "source": [
    "plotfigure2(x,y,x2,y2)"
   ]
  },
  {
   "cell_type": "code",
   "execution_count": null,
   "metadata": {},
   "outputs": [],
   "source": []
  }
 ],
 "metadata": {
  "kernelspec": {
   "display_name": "Python 3 (ipykernel)",
   "language": "python",
   "name": "python3"
  },
  "language_info": {
   "codemirror_mode": {
    "name": "ipython",
    "version": 3
   },
   "file_extension": ".py",
   "mimetype": "text/x-python",
   "name": "python",
   "nbconvert_exporter": "python",
   "pygments_lexer": "ipython3",
   "version": "3.9.5"
  },
  "vscode": {
   "interpreter": {
    "hash": "7b19d276b38a92b4edf272a17a0f3c1c5821b8b960b3f92721d58d5de9b921e9"
   }
  }
 },
 "nbformat": 4,
 "nbformat_minor": 2
}
